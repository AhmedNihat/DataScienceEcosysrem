{
 "cells": [
  {
   "cell_type": "markdown",
   "id": "79adbb3f-758b-4504-87f2-9d74a3c05f22",
   "metadata": {},
   "source": [
    "# Data Science Tools and Ecosystem"
   ]
  },
  {
   "cell_type": "markdown",
   "id": "f165cc71-9f34-4169-ace3-685b2d1877c1",
   "metadata": {},
   "source": [
    "In this notebook, Data Science Tools and Ecosystem are summarized.\n"
   ]
  },
  {
   "cell_type": "markdown",
   "id": "1d5759a1-b67a-412d-a64e-145d9f8650a1",
   "metadata": {},
   "source": [
    "Some of the popular languages that Data Scientists use are:\n",
    "\n",
    "1. Python\n",
    "2. R\n",
    "3. SQL\n"
   ]
  },
  {
   "cell_type": "markdown",
   "id": "88534414-11ac-414f-9716-b714b8654365",
   "metadata": {},
   "source": [
    "Some of the commonly used libraries used by Data Scientists include:\n",
    "\n",
    "1. Pandas\n",
    "2. NumPy\n",
    "3. Matplotlib\n"
   ]
  },
  {
   "cell_type": "markdown",
   "id": "78396e8a-c75f-4386-80c7-876f6ca327fa",
   "metadata": {},
   "source": [
    "| Data Science Tools     |\n",
    "|-------------------------|\n",
    "| Jupyter Notebook        |\n",
    "| RStudio                 |\n",
    "| Apache Zeppelin         |\n"
   ]
  },
  {
   "cell_type": "markdown",
   "id": "a31edb18-4c0c-4ed1-8ba1-99dc21c97c77",
   "metadata": {},
   "source": [
    "### Below are a few examples of evaluating arithmetic expressions in Python.\n"
   ]
  },
  {
   "cell_type": "code",
   "execution_count": 12,
   "id": "d6120bae-4c2e-4288-ac63-f2188fc3952e",
   "metadata": {},
   "outputs": [
    {
     "data": {
      "text/plain": [
       "17"
      ]
     },
     "execution_count": 12,
     "metadata": {},
     "output_type": "execute_result"
    }
   ],
   "source": [
    "# This is a simple arithmetic expression to multiply then add integers\n",
    "(3 * 4) + 5"
   ]
  },
  {
   "cell_type": "code",
   "execution_count": 15,
   "id": "05127e68-e121-4525-9c04-b6b12f7fbce5",
   "metadata": {},
   "outputs": [
    {
     "data": {
      "text/plain": [
       "3.3333333333333335"
      ]
     },
     "execution_count": 15,
     "metadata": {},
     "output_type": "execute_result"
    }
   ],
   "source": [
    "# This will convert 200 minutes to hours by dividing by 60 \n",
    "hours = 200 / 60\n",
    "hours"
   ]
  },
  {
   "cell_type": "markdown",
   "id": "f4f1c142-d67e-474f-b690-bf6f32854a2d",
   "metadata": {},
   "source": [
    "**Objectives:**\n",
    "\n",
    "- List popular languages for Data Science\n",
    "- List commonly used libraries for Data Science\n",
    "- Introduce arithmetic expressions in Python\n",
    "- Show conversion of minutes to hours"
   ]
  },
  {
   "cell_type": "markdown",
   "id": "cf265480-8aa1-4e73-9844-c6bccd5cb20e",
   "metadata": {},
   "source": [
    "## Author\n",
    "\n",
    "Ahmed Ullah\n"
   ]
  },
  {
   "cell_type": "code",
   "execution_count": null,
   "id": "a791fcdc-dc7a-48a1-920e-8444beeada19",
   "metadata": {},
   "outputs": [],
   "source": []
  }
 ],
 "metadata": {
  "kernelspec": {
   "display_name": "Python 3 (ipykernel)",
   "language": "python",
   "name": "python3"
  },
  "language_info": {
   "codemirror_mode": {
    "name": "ipython",
    "version": 3
   },
   "file_extension": ".py",
   "mimetype": "text/x-python",
   "name": "python",
   "nbconvert_exporter": "python",
   "pygments_lexer": "ipython3",
   "version": "3.11.9"
  }
 },
 "nbformat": 4,
 "nbformat_minor": 5
}
